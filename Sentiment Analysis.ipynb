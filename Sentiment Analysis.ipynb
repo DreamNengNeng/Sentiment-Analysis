{
 "cells": [
  {
   "cell_type": "markdown",
   "metadata": {},
   "source": [
    "# Homework 3"
   ]
  },
  {
   "cell_type": "code",
   "execution_count": 1,
   "metadata": {},
   "outputs": [],
   "source": [
    "%matplotlib inline\n",
    "import numpy as np\n",
    "import matplotlib.pyplot as plt\n",
    "import os"
   ]
  },
  {
   "cell_type": "markdown",
   "metadata": {},
   "source": [
    "# Part 3: Sentiment Analysis [40 points]\n",
    "\n",
    "Download data from: http://www.andrew.cmu.edu/user/georgech/HW3-data.zip <br>\n",
    "\n",
    "The folder contains:\n",
    "\n",
    "- `train.csv`\n",
    "- `test.csv`\n",
    "\n",
    "In this problem, we look at predicting whether a tweet has positive or negative sentiment. We intentionally write this problem to be a bit open-ended to let you play with different neural net code yourself and also for you to compare against a classical baseline."
   ]
  },
  {
   "cell_type": "markdown",
   "metadata": {},
   "source": [
    "**(a) [5 points]** We first read in the tweet data. Read the data present in `train.csv` file. **Please do not change the filename. In particular, use a relative path, i.e., `./HW3-data/train.csv`**. Then do the following:\n",
    "\n",
    "1. Keep only the sentiment and sentiment text in the data - the first and the last coumn\n",
    "2. Print the number of positive and negative sentiment labels\n",
    "\n",
    "Note: If you are using `open()`, you may have to set `encoding='iso8859'`."
   ]
  },
  {
   "cell_type": "code",
   "execution_count": 20,
   "metadata": {},
   "outputs": [],
   "source": [
    "import numpy as np\n",
    "import torch\n",
    "import torch.nn as nn\n",
    "\n",
    "%matplotlib inline\n",
    "import matplotlib.pyplot as plt"
   ]
  },
  {
   "cell_type": "code",
   "execution_count": 21,
   "metadata": {},
   "outputs": [
    {
     "name": "stdout",
     "output_type": "stream",
     "text": [
      "Number of positive labels: 800000\n",
      "Number of negative labels: 800000\n"
     ]
    }
   ],
   "source": [
    "# your code here\n",
    "import csv\n",
    "def load_csv(csv_filename):\n",
    "    labels = []\n",
    "    tweets = []\n",
    "    with open(csv_filename, encoding='iso8859') as f:\n",
    "        csv_reader = csv.reader(f)\n",
    "        for row in csv_reader:\n",
    "            labels.append(int(row[0]))\n",
    "            tweets.append(row[-1])\n",
    "    return tweets, np.array(labels)\n",
    "\n",
    "train_text, train_labels = load_csv('HW3-data/train.csv')\n",
    "print('Number of positive labels:', (train_labels == 1).sum())\n",
    "print('Number of negative labels:', (train_labels == 0).sum())"
   ]
  },
  {
   "cell_type": "markdown",
   "metadata": {},
   "source": [
    "**(b) [25 points]** Modify the LSTM demo code from lecture to work with this Twitter dataset. Play with the learning rate and batch size so that the training gives reasonable increases in training and validation accuracies as we progress through epochs (leave the number of epochs at 10). Also feel free to try different neural net architectures (although you do not have to). What test accuracy are you able to achieve?"
   ]
  },
  {
   "cell_type": "code",
   "execution_count": 22,
   "metadata": {},
   "outputs": [],
   "source": [
    "# your code here\n",
    "train_dataset = list(zip(train_text, train_labels))\n",
    "\n",
    "proper_train_size = int(len(train_dataset) * 0.8)\n",
    "val_size = len(train_dataset) - proper_train_size\n",
    "\n",
    "torch.manual_seed(0)\n",
    "proper_train_dataset, val_dataset = torch.utils.data.random_split(train_dataset,\n",
    "                                                                  [proper_train_size,\n",
    "                                                                   val_size])"
   ]
  },
  {
   "cell_type": "code",
   "execution_count": 23,
   "metadata": {
    "scrolled": false
   },
   "outputs": [
    {
     "name": "stdout",
     "output_type": "stream",
     "text": [
      "Parsing tweet 10000/1280000, dictionary size: 18070\n",
      "Parsing tweet 20000/1280000, dictionary size: 30016\n",
      "Parsing tweet 30000/1280000, dictionary size: 40690\n",
      "Parsing tweet 40000/1280000, dictionary size: 50442\n",
      "Parsing tweet 50000/1280000, dictionary size: 59643\n",
      "Parsing tweet 60000/1280000, dictionary size: 68236\n",
      "Parsing tweet 70000/1280000, dictionary size: 76487\n",
      "Parsing tweet 80000/1280000, dictionary size: 84484\n",
      "Parsing tweet 90000/1280000, dictionary size: 92350\n",
      "Parsing tweet 100000/1280000, dictionary size: 100059\n",
      "Parsing tweet 110000/1280000, dictionary size: 107685\n",
      "Parsing tweet 120000/1280000, dictionary size: 115073\n",
      "Parsing tweet 130000/1280000, dictionary size: 122191\n",
      "Parsing tweet 140000/1280000, dictionary size: 129093\n",
      "Parsing tweet 150000/1280000, dictionary size: 135849\n",
      "Parsing tweet 160000/1280000, dictionary size: 142701\n",
      "Parsing tweet 170000/1280000, dictionary size: 149362\n",
      "Parsing tweet 180000/1280000, dictionary size: 155947\n",
      "Parsing tweet 190000/1280000, dictionary size: 162456\n",
      "Parsing tweet 200000/1280000, dictionary size: 168714\n",
      "Parsing tweet 210000/1280000, dictionary size: 174981\n",
      "Parsing tweet 220000/1280000, dictionary size: 181309\n",
      "Parsing tweet 230000/1280000, dictionary size: 187617\n",
      "Parsing tweet 240000/1280000, dictionary size: 193768\n",
      "Parsing tweet 250000/1280000, dictionary size: 199612\n",
      "Parsing tweet 260000/1280000, dictionary size: 205414\n",
      "Parsing tweet 270000/1280000, dictionary size: 211103\n",
      "Parsing tweet 280000/1280000, dictionary size: 216802\n",
      "Parsing tweet 290000/1280000, dictionary size: 222524\n",
      "Parsing tweet 300000/1280000, dictionary size: 228137\n",
      "Parsing tweet 310000/1280000, dictionary size: 233733\n",
      "Parsing tweet 320000/1280000, dictionary size: 239319\n",
      "Parsing tweet 330000/1280000, dictionary size: 245061\n",
      "Parsing tweet 340000/1280000, dictionary size: 250576\n",
      "Parsing tweet 350000/1280000, dictionary size: 256005\n",
      "Parsing tweet 360000/1280000, dictionary size: 261525\n",
      "Parsing tweet 370000/1280000, dictionary size: 266901\n",
      "Parsing tweet 380000/1280000, dictionary size: 272094\n",
      "Parsing tweet 390000/1280000, dictionary size: 277303\n",
      "Parsing tweet 400000/1280000, dictionary size: 282688\n",
      "Parsing tweet 410000/1280000, dictionary size: 287940\n",
      "Parsing tweet 420000/1280000, dictionary size: 293141\n",
      "Parsing tweet 430000/1280000, dictionary size: 298165\n",
      "Parsing tweet 440000/1280000, dictionary size: 303292\n",
      "Parsing tweet 450000/1280000, dictionary size: 308272\n",
      "Parsing tweet 460000/1280000, dictionary size: 313349\n",
      "Parsing tweet 470000/1280000, dictionary size: 318209\n",
      "Parsing tweet 480000/1280000, dictionary size: 323256\n",
      "Parsing tweet 490000/1280000, dictionary size: 328141\n",
      "Parsing tweet 500000/1280000, dictionary size: 332920\n",
      "Parsing tweet 510000/1280000, dictionary size: 337795\n",
      "Parsing tweet 520000/1280000, dictionary size: 342756\n",
      "Parsing tweet 530000/1280000, dictionary size: 347616\n",
      "Parsing tweet 540000/1280000, dictionary size: 352376\n",
      "Parsing tweet 550000/1280000, dictionary size: 357096\n",
      "Parsing tweet 560000/1280000, dictionary size: 361876\n",
      "Parsing tweet 570000/1280000, dictionary size: 366579\n",
      "Parsing tweet 580000/1280000, dictionary size: 371297\n",
      "Parsing tweet 590000/1280000, dictionary size: 375960\n",
      "Parsing tweet 600000/1280000, dictionary size: 380557\n",
      "Parsing tweet 610000/1280000, dictionary size: 385200\n",
      "Parsing tweet 620000/1280000, dictionary size: 389773\n",
      "Parsing tweet 630000/1280000, dictionary size: 394294\n",
      "Parsing tweet 640000/1280000, dictionary size: 398773\n",
      "Parsing tweet 650000/1280000, dictionary size: 403429\n",
      "Parsing tweet 660000/1280000, dictionary size: 407897\n",
      "Parsing tweet 670000/1280000, dictionary size: 412383\n",
      "Parsing tweet 680000/1280000, dictionary size: 416808\n",
      "Parsing tweet 690000/1280000, dictionary size: 421138\n",
      "Parsing tweet 700000/1280000, dictionary size: 425633\n",
      "Parsing tweet 710000/1280000, dictionary size: 429983\n",
      "Parsing tweet 720000/1280000, dictionary size: 434300\n",
      "Parsing tweet 730000/1280000, dictionary size: 438637\n",
      "Parsing tweet 740000/1280000, dictionary size: 443048\n",
      "Parsing tweet 750000/1280000, dictionary size: 447367\n",
      "Parsing tweet 760000/1280000, dictionary size: 451605\n",
      "Parsing tweet 770000/1280000, dictionary size: 455824\n",
      "Parsing tweet 780000/1280000, dictionary size: 459945\n",
      "Parsing tweet 790000/1280000, dictionary size: 464160\n",
      "Parsing tweet 800000/1280000, dictionary size: 468406\n",
      "Parsing tweet 810000/1280000, dictionary size: 472692\n",
      "Parsing tweet 820000/1280000, dictionary size: 476895\n",
      "Parsing tweet 830000/1280000, dictionary size: 481140\n",
      "Parsing tweet 840000/1280000, dictionary size: 485274\n",
      "Parsing tweet 850000/1280000, dictionary size: 489411\n",
      "Parsing tweet 860000/1280000, dictionary size: 493516\n",
      "Parsing tweet 870000/1280000, dictionary size: 497558\n",
      "Parsing tweet 880000/1280000, dictionary size: 501707\n",
      "Parsing tweet 890000/1280000, dictionary size: 505825\n",
      "Parsing tweet 900000/1280000, dictionary size: 509693\n",
      "Parsing tweet 910000/1280000, dictionary size: 513689\n",
      "Parsing tweet 920000/1280000, dictionary size: 517649\n",
      "Parsing tweet 930000/1280000, dictionary size: 521615\n",
      "Parsing tweet 940000/1280000, dictionary size: 525562\n",
      "Parsing tweet 950000/1280000, dictionary size: 529621\n",
      "Parsing tweet 960000/1280000, dictionary size: 533502\n",
      "Parsing tweet 970000/1280000, dictionary size: 537391\n",
      "Parsing tweet 980000/1280000, dictionary size: 541396\n",
      "Parsing tweet 990000/1280000, dictionary size: 545335\n",
      "Parsing tweet 1000000/1280000, dictionary size: 549170\n",
      "Parsing tweet 1010000/1280000, dictionary size: 552978\n",
      "Parsing tweet 1020000/1280000, dictionary size: 556844\n",
      "Parsing tweet 1030000/1280000, dictionary size: 560732\n",
      "Parsing tweet 1040000/1280000, dictionary size: 564583\n",
      "Parsing tweet 1050000/1280000, dictionary size: 568375\n",
      "Parsing tweet 1060000/1280000, dictionary size: 572208\n",
      "Parsing tweet 1070000/1280000, dictionary size: 575909\n",
      "Parsing tweet 1080000/1280000, dictionary size: 579648\n",
      "Parsing tweet 1090000/1280000, dictionary size: 583564\n",
      "Parsing tweet 1100000/1280000, dictionary size: 587431\n",
      "Parsing tweet 1110000/1280000, dictionary size: 591167\n",
      "Parsing tweet 1120000/1280000, dictionary size: 594805\n",
      "Parsing tweet 1130000/1280000, dictionary size: 598532\n",
      "Parsing tweet 1140000/1280000, dictionary size: 602282\n",
      "Parsing tweet 1150000/1280000, dictionary size: 605939\n",
      "Parsing tweet 1160000/1280000, dictionary size: 609712\n",
      "Parsing tweet 1170000/1280000, dictionary size: 613317\n",
      "Parsing tweet 1180000/1280000, dictionary size: 616891\n",
      "Parsing tweet 1190000/1280000, dictionary size: 620585\n",
      "Parsing tweet 1200000/1280000, dictionary size: 624302\n",
      "Parsing tweet 1210000/1280000, dictionary size: 627917\n",
      "Parsing tweet 1220000/1280000, dictionary size: 631578\n",
      "Parsing tweet 1230000/1280000, dictionary size: 635273\n",
      "Parsing tweet 1240000/1280000, dictionary size: 638927\n",
      "Parsing tweet 1250000/1280000, dictionary size: 642517\n",
      "Parsing tweet 1260000/1280000, dictionary size: 646079\n",
      "Parsing tweet 1270000/1280000, dictionary size: 649638\n",
      "Parsing tweet 1280000/1280000, dictionary size: 653335\n",
      "Vocabulary size: 2000\n"
     ]
    }
   ],
   "source": [
    "import spacy\n",
    "spacy.require_gpu()\n",
    "from collections import Counter\n",
    "\n",
    "# there are many ways to preprocess the data; this is just one way\n",
    "nlp = spacy.load('en_core_web_sm', disable=['ner', 'tagger', 'parser'])\n",
    "proper_train_tweets = [tweet for tweet, label in proper_train_dataset]\n",
    "histogram = Counter()\n",
    "for idx, doc in enumerate(nlp.pipe(proper_train_tweets)):\n",
    "    if (idx + 1) % 10000 == 0:\n",
    "        print('Parsing tweet %d/%d, dictionary size: %d' % (idx + 1, proper_train_size, len(histogram)))\n",
    "    for token in doc:\n",
    "        lemma = token.lemma_.lower()\n",
    "        if not (len(lemma.strip()) == 0 \\\n",
    "                or token.pos_ == 'SPACE'):\n",
    "            histogram[lemma] += 1\n",
    "\n",
    "vocab_size = 2000\n",
    "vocab = ['<pad>', '<unk>'] \\\n",
    "    + sorted([word for word, count in histogram.most_common()[:(vocab_size-2)]])\n",
    "vocab_to_idx = {word: idx for idx, word in enumerate(vocab)}\n",
    "print('Vocabulary size:', vocab_size)"
   ]
  },
  {
   "cell_type": "code",
   "execution_count": 24,
   "metadata": {},
   "outputs": [],
   "source": [
    "def encode_tweets(tweets):\n",
    "    n = len(tweets)\n",
    "    all_encoded = []\n",
    "    for idx, doc in enumerate(nlp.pipe(tweets)):\n",
    "        encoded = []\n",
    "        if (idx + 1) % 10000 == 0:\n",
    "            print('Parsing tweet %d/%d' % (idx + 1, n))\n",
    "        for token in doc:\n",
    "            lemma = token.lemma_.lower()\n",
    "            if not (len(lemma.strip()) == 0 \\\n",
    "                    or token.pos_ == 'SPACE'):\n",
    "                if lemma in vocab_to_idx:\n",
    "                    encoded.append(vocab_to_idx[lemma])\n",
    "                else:\n",
    "                    encoded.append(vocab_to_idx['<unk>'])\n",
    "        all_encoded.append(torch.tensor(encoded, dtype=torch.long))\n",
    "    return all_encoded"
   ]
  },
  {
   "cell_type": "code",
   "execution_count": 25,
   "metadata": {
    "scrolled": false
   },
   "outputs": [
    {
     "name": "stdout",
     "output_type": "stream",
     "text": [
      "Parsing tweet 10000/1280000\n",
      "Parsing tweet 20000/1280000\n",
      "Parsing tweet 30000/1280000\n",
      "Parsing tweet 40000/1280000\n",
      "Parsing tweet 50000/1280000\n",
      "Parsing tweet 60000/1280000\n",
      "Parsing tweet 70000/1280000\n",
      "Parsing tweet 80000/1280000\n",
      "Parsing tweet 90000/1280000\n",
      "Parsing tweet 100000/1280000\n",
      "Parsing tweet 110000/1280000\n",
      "Parsing tweet 120000/1280000\n",
      "Parsing tweet 130000/1280000\n",
      "Parsing tweet 140000/1280000\n",
      "Parsing tweet 150000/1280000\n",
      "Parsing tweet 160000/1280000\n",
      "Parsing tweet 170000/1280000\n",
      "Parsing tweet 180000/1280000\n",
      "Parsing tweet 190000/1280000\n",
      "Parsing tweet 200000/1280000\n",
      "Parsing tweet 210000/1280000\n",
      "Parsing tweet 220000/1280000\n",
      "Parsing tweet 230000/1280000\n",
      "Parsing tweet 240000/1280000\n",
      "Parsing tweet 250000/1280000\n",
      "Parsing tweet 260000/1280000\n",
      "Parsing tweet 270000/1280000\n",
      "Parsing tweet 280000/1280000\n",
      "Parsing tweet 290000/1280000\n",
      "Parsing tweet 300000/1280000\n",
      "Parsing tweet 310000/1280000\n",
      "Parsing tweet 320000/1280000\n",
      "Parsing tweet 330000/1280000\n",
      "Parsing tweet 340000/1280000\n",
      "Parsing tweet 350000/1280000\n",
      "Parsing tweet 360000/1280000\n",
      "Parsing tweet 370000/1280000\n",
      "Parsing tweet 380000/1280000\n",
      "Parsing tweet 390000/1280000\n",
      "Parsing tweet 400000/1280000\n",
      "Parsing tweet 410000/1280000\n",
      "Parsing tweet 420000/1280000\n",
      "Parsing tweet 430000/1280000\n",
      "Parsing tweet 440000/1280000\n",
      "Parsing tweet 450000/1280000\n",
      "Parsing tweet 460000/1280000\n",
      "Parsing tweet 470000/1280000\n",
      "Parsing tweet 480000/1280000\n",
      "Parsing tweet 490000/1280000\n",
      "Parsing tweet 500000/1280000\n",
      "Parsing tweet 510000/1280000\n",
      "Parsing tweet 520000/1280000\n",
      "Parsing tweet 530000/1280000\n",
      "Parsing tweet 540000/1280000\n",
      "Parsing tweet 550000/1280000\n",
      "Parsing tweet 560000/1280000\n",
      "Parsing tweet 570000/1280000\n",
      "Parsing tweet 580000/1280000\n",
      "Parsing tweet 590000/1280000\n",
      "Parsing tweet 600000/1280000\n",
      "Parsing tweet 610000/1280000\n",
      "Parsing tweet 620000/1280000\n",
      "Parsing tweet 630000/1280000\n",
      "Parsing tweet 640000/1280000\n",
      "Parsing tweet 650000/1280000\n",
      "Parsing tweet 660000/1280000\n",
      "Parsing tweet 670000/1280000\n",
      "Parsing tweet 680000/1280000\n",
      "Parsing tweet 690000/1280000\n",
      "Parsing tweet 700000/1280000\n",
      "Parsing tweet 710000/1280000\n",
      "Parsing tweet 720000/1280000\n",
      "Parsing tweet 730000/1280000\n",
      "Parsing tweet 740000/1280000\n",
      "Parsing tweet 750000/1280000\n",
      "Parsing tweet 760000/1280000\n",
      "Parsing tweet 770000/1280000\n",
      "Parsing tweet 780000/1280000\n",
      "Parsing tweet 790000/1280000\n",
      "Parsing tweet 800000/1280000\n",
      "Parsing tweet 810000/1280000\n",
      "Parsing tweet 820000/1280000\n",
      "Parsing tweet 830000/1280000\n",
      "Parsing tweet 840000/1280000\n",
      "Parsing tweet 850000/1280000\n",
      "Parsing tweet 860000/1280000\n",
      "Parsing tweet 870000/1280000\n",
      "Parsing tweet 880000/1280000\n",
      "Parsing tweet 890000/1280000\n",
      "Parsing tweet 900000/1280000\n",
      "Parsing tweet 910000/1280000\n",
      "Parsing tweet 920000/1280000\n",
      "Parsing tweet 930000/1280000\n",
      "Parsing tweet 940000/1280000\n",
      "Parsing tweet 950000/1280000\n",
      "Parsing tweet 960000/1280000\n",
      "Parsing tweet 970000/1280000\n",
      "Parsing tweet 980000/1280000\n",
      "Parsing tweet 990000/1280000\n",
      "Parsing tweet 1000000/1280000\n",
      "Parsing tweet 1010000/1280000\n",
      "Parsing tweet 1020000/1280000\n",
      "Parsing tweet 1030000/1280000\n",
      "Parsing tweet 1040000/1280000\n",
      "Parsing tweet 1050000/1280000\n",
      "Parsing tweet 1060000/1280000\n",
      "Parsing tweet 1070000/1280000\n",
      "Parsing tweet 1080000/1280000\n",
      "Parsing tweet 1090000/1280000\n",
      "Parsing tweet 1100000/1280000\n",
      "Parsing tweet 1110000/1280000\n",
      "Parsing tweet 1120000/1280000\n",
      "Parsing tweet 1130000/1280000\n",
      "Parsing tweet 1140000/1280000\n",
      "Parsing tweet 1150000/1280000\n",
      "Parsing tweet 1160000/1280000\n",
      "Parsing tweet 1170000/1280000\n",
      "Parsing tweet 1180000/1280000\n",
      "Parsing tweet 1190000/1280000\n",
      "Parsing tweet 1200000/1280000\n",
      "Parsing tweet 1210000/1280000\n",
      "Parsing tweet 1220000/1280000\n",
      "Parsing tweet 1230000/1280000\n",
      "Parsing tweet 1240000/1280000\n",
      "Parsing tweet 1250000/1280000\n",
      "Parsing tweet 1260000/1280000\n",
      "Parsing tweet 1270000/1280000\n",
      "Parsing tweet 1280000/1280000\n"
     ]
    }
   ],
   "source": [
    "proper_train_encoded = encode_tweets(proper_train_tweets)\n",
    "proper_train_labels = torch.tensor([label for tweet, label in proper_train_dataset], dtype=torch.long)"
   ]
  },
  {
   "cell_type": "code",
   "execution_count": 26,
   "metadata": {},
   "outputs": [
    {
     "name": "stdout",
     "output_type": "stream",
     "text": [
      "Parsing tweet 10000/320000\n",
      "Parsing tweet 20000/320000\n",
      "Parsing tweet 30000/320000\n",
      "Parsing tweet 40000/320000\n",
      "Parsing tweet 50000/320000\n",
      "Parsing tweet 60000/320000\n",
      "Parsing tweet 70000/320000\n",
      "Parsing tweet 80000/320000\n",
      "Parsing tweet 90000/320000\n",
      "Parsing tweet 100000/320000\n",
      "Parsing tweet 110000/320000\n",
      "Parsing tweet 120000/320000\n",
      "Parsing tweet 130000/320000\n",
      "Parsing tweet 140000/320000\n",
      "Parsing tweet 150000/320000\n",
      "Parsing tweet 160000/320000\n",
      "Parsing tweet 170000/320000\n",
      "Parsing tweet 180000/320000\n",
      "Parsing tweet 190000/320000\n",
      "Parsing tweet 200000/320000\n",
      "Parsing tweet 210000/320000\n",
      "Parsing tweet 220000/320000\n",
      "Parsing tweet 230000/320000\n",
      "Parsing tweet 240000/320000\n",
      "Parsing tweet 250000/320000\n",
      "Parsing tweet 260000/320000\n",
      "Parsing tweet 270000/320000\n",
      "Parsing tweet 280000/320000\n",
      "Parsing tweet 290000/320000\n",
      "Parsing tweet 300000/320000\n",
      "Parsing tweet 310000/320000\n",
      "Parsing tweet 320000/320000\n"
     ]
    }
   ],
   "source": [
    "val_encoded = encode_tweets([tweet for tweet, label in val_dataset])\n",
    "val_labels = torch.tensor([label for tweet, label in val_dataset], dtype=torch.long)"
   ]
  },
  {
   "cell_type": "code",
   "execution_count": 27,
   "metadata": {},
   "outputs": [],
   "source": [
    "from torchnlp.word_to_vector import GloVe\n",
    "pretrained_embedding = GloVe(name='6B', dim=100)\n",
    "\n",
    "embedding_weights = torch.Tensor(vocab_size, pretrained_embedding.dim)\n",
    "for i, word in enumerate(vocab):\n",
    "    embedding_weights[i] = pretrained_embedding[word]"
   ]
  },
  {
   "cell_type": "code",
   "execution_count": 28,
   "metadata": {},
   "outputs": [],
   "source": [
    "proper_train_dataset_encoded = list(zip(proper_train_encoded, proper_train_labels))\n",
    "val_dataset_encoded = list(zip(val_encoded, val_labels))"
   ]
  },
  {
   "cell_type": "code",
   "execution_count": 29,
   "metadata": {},
   "outputs": [
    {
     "name": "stdout",
     "output_type": "stream",
     "text": [
      "Epoch 1 [==================================================] 1280000/1280000\n",
      "  Train accuracy: 0.7790\n",
      "  Validation accuracy: 0.7760\n",
      "Epoch 2 [==================================================] 1280000/1280000\n",
      "  Train accuracy: 0.8053\n",
      "  Validation accuracy: 0.8014\n",
      "Epoch 3 [==================================================] 1280000/1280000\n",
      "  Train accuracy: 0.7994\n",
      "  Validation accuracy: 0.7945\n",
      "Epoch 4 [==================================================] 1280000/1280000\n",
      "  Train accuracy: 0.8050\n",
      "  Validation accuracy: 0.7995\n",
      "Epoch 5 [==================================================] 1280000/1280000\n",
      "  Train accuracy: 0.8012\n",
      "  Validation accuracy: 0.7949\n",
      "Epoch 6 [==================================================] 1280000/1280000\n",
      "  Train accuracy: 0.8131\n",
      "  Validation accuracy: 0.8065\n",
      "Epoch 7 [==================================================] 1280000/1280000\n",
      "  Train accuracy: 0.8149\n",
      "  Validation accuracy: 0.8085\n",
      "Epoch 8 [==================================================] 1280000/1280000\n",
      "  Train accuracy: 0.8145\n",
      "  Validation accuracy: 0.8075\n",
      "Epoch 9 [==================================================] 1280000/1280000\n",
      "  Train accuracy: 0.8127\n",
      "  Validation accuracy: 0.8051\n",
      "Epoch 10 [==================================================] 1280000/1280000\n",
      "  Train accuracy: 0.8169\n",
      "  Validation accuracy: 0.8094\n"
     ]
    },
    {
     "data": {
      "image/png": "[encoded data removed]",
      "text/plain": [
       "<Figure size 432x288 with 1 Axes>"
      ]
     },
     "metadata": {
      "needs_background": "light"
     },
     "output_type": "display_data"
    }
   ],
   "source": [
    "from UDA_pytorch_utils import UDA_LSTMforSequential, UDA_pytorch_classifier_fit, \\\n",
    "    UDA_plot_train_val_accuracy_vs_epoch, UDA_pytorch_classifier_predict, \\\n",
    "    UDA_compute_accuracy\n",
    "\n",
    "simple_lstm_model = nn.Sequential(nn.Embedding.from_pretrained(embedding_weights),\n",
    "                                  UDA_LSTMforSequential(100, 64),\n",
    "                                  nn.Linear(64, 2))\n",
    "\n",
    "num_epochs = 10  # during optimization, how many times we look at training data\n",
    "batch_size = 512  # during optimization, how many training data to use at each step\n",
    "learning_rate = 0.01  # during optimization, how much we nudge our solution at each step\n",
    "\n",
    "train_accuracies, val_accuracies = \\\n",
    "    UDA_pytorch_classifier_fit(simple_lstm_model,\n",
    "                               torch.optim.AdamW(simple_lstm_model.parameters(),\n",
    "                                                 lr=learning_rate),\n",
    "                               nn.CrossEntropyLoss(),  # includes softmax\n",
    "                               proper_train_dataset_encoded, val_dataset_encoded,\n",
    "                               num_epochs, batch_size,\n",
    "                               sequence=True)\n",
    "\n",
    "UDA_plot_train_val_accuracy_vs_epoch(train_accuracies, val_accuracies)"
   ]
  },
  {
   "cell_type": "code",
   "execution_count": 30,
   "metadata": {},
   "outputs": [
    {
     "name": "stdout",
     "output_type": "stream",
     "text": [
      "Test accuracy: 0.6325301204819277\n"
     ]
    }
   ],
   "source": [
    "test_tweets, test_labels = load_csv('HW3-data/test.csv')\n",
    "test_dataset = list(zip(test_tweets, test_labels))\n",
    "test_encoded = encode_tweets([tweet for tweet, label in test_dataset])\n",
    "test_labels = torch.tensor([label for tweet, label in test_dataset], dtype=torch.long)\n",
    "\n",
    "predicted_test_labels = UDA_pytorch_classifier_predict(simple_lstm_model,\n",
    "                                                       test_encoded,\n",
    "                                                       sequence=True)\n",
    "\n",
    "print('Test accuracy:', UDA_compute_accuracy(predicted_test_labels, test_labels))"
   ]
  },
  {
   "cell_type": "markdown",
   "metadata": {},
   "source": [
    "**(c) [10 points]** How well does an LSTM compare with using a classical classifier? To investigate this question, let's try training a random forest for sentiment analysis. Your code from part **(b)** should involve coming up with encoded representations of text, i.e., representing a tweet using a sequence of word indices. Use this to come up with a term frequency representation for each tweet. Feel free to remove stop words and/or apply TF-IDF weighting, and then feed the resulting feature vector representations for tweets to a random forest classifier. You can use cross-validation to select hyperparameters. Try to make the random forest classifier perform as well as possible (it is good practice in real-world applications to try to make baselines as good as possible rather than intentionally using a baseline with lousy hyperparameter choices; in particular, it is *bad* practice to tune hyperparameters carefully only on a method you're proposing while not tuning hyperparameters on baselines!). What test set accuracy are you able to achieve with the random forest?"
   ]
  },
  {
   "cell_type": "code",
   "execution_count": 31,
   "metadata": {},
   "outputs": [],
   "source": [
    "# your code here\n",
    "from multiprocessing import Pool\n",
    "\n",
    "def bag_of_words_encode_tweet(args):\n",
    "    tweet, vocab_size = args\n",
    "    feature_vector = np.zeros(vocab_size)\n",
    "    for word_idx in tweet:\n",
    "        feature_vector[word_idx] += 1\n",
    "    return feature_vector\n",
    "\n",
    "def bag_of_words_encode(already_encoded_tweets):\n",
    "    p = Pool()\n",
    "    feature_vectors = p.map(bag_of_words_encode_tweet,\n",
    "                            [(encoded.cpu().numpy(), vocab_size)\n",
    "                             for encoded in already_encoded_tweets])\n",
    "    p.close()\n",
    "    return feature_vectors\n",
    "\n",
    "baseline_proper_train_encoded = bag_of_words_encode(proper_train_encoded)\n",
    "baseline_proper_train_labels = [label for tweet, label in proper_train_dataset]\n",
    "baseline_val_encoded = bag_of_words_encode(val_encoded)\n",
    "baseline_val_labels = [label for tweet, label in val_dataset]"
   ]
  },
  {
   "cell_type": "code",
   "execution_count": 32,
   "metadata": {},
   "outputs": [],
   "source": [
    "from scipy.sparse import csc_matrix\n",
    "\n",
    "baseline_proper_train_encoded_sparse = csc_matrix(baseline_proper_train_encoded)\n",
    "baseline_val_encoded_sparse = csc_matrix(baseline_val_encoded)"
   ]
  },
  {
   "cell_type": "code",
   "execution_count": 33,
   "metadata": {},
   "outputs": [
    {
     "name": "stderr",
     "output_type": "stream",
     "text": [
      "[Parallel(n_jobs=-1)]: Using backend ThreadingBackend with 36 concurrent workers.\n",
      "[Parallel(n_jobs=-1)]: Done 100 out of 100 | elapsed:  4.0min finished\n",
      "[Parallel(n_jobs=36)]: Using backend ThreadingBackend with 36 concurrent workers.\n",
      "[Parallel(n_jobs=36)]: Done 100 out of 100 | elapsed:    1.5s finished\n"
     ]
    },
    {
     "name": "stdout",
     "output_type": "stream",
     "text": [
      "(11, 1) : 0.778803125\n"
     ]
    },
    {
     "name": "stderr",
     "output_type": "stream",
     "text": [
      "[Parallel(n_jobs=-1)]: Using backend ThreadingBackend with 36 concurrent workers.\n",
      "[Parallel(n_jobs=-1)]: Done 100 out of 100 | elapsed:  5.0min finished\n",
      "[Parallel(n_jobs=36)]: Using backend ThreadingBackend with 36 concurrent workers.\n",
      "[Parallel(n_jobs=36)]: Done 100 out of 100 | elapsed:    1.3s finished\n"
     ]
    },
    {
     "name": "stdout",
     "output_type": "stream",
     "text": [
      "(22, 1) : 0.77644375\n"
     ]
    },
    {
     "name": "stderr",
     "output_type": "stream",
     "text": [
      "[Parallel(n_jobs=-1)]: Using backend ThreadingBackend with 36 concurrent workers.\n",
      "[Parallel(n_jobs=-1)]: Done 100 out of 100 | elapsed:  6.6min finished\n",
      "[Parallel(n_jobs=36)]: Using backend ThreadingBackend with 36 concurrent workers.\n",
      "[Parallel(n_jobs=36)]: Done 100 out of 100 | elapsed:    1.1s finished\n"
     ]
    },
    {
     "name": "stdout",
     "output_type": "stream",
     "text": [
      "(44, 1) : 0.7723\n"
     ]
    },
    {
     "name": "stderr",
     "output_type": "stream",
     "text": [
      "[Parallel(n_jobs=-1)]: Using backend ThreadingBackend with 36 concurrent workers.\n",
      "[Parallel(n_jobs=-1)]: Done 100 out of 100 | elapsed:  9.8min finished\n",
      "[Parallel(n_jobs=36)]: Using backend ThreadingBackend with 36 concurrent workers.\n",
      "[Parallel(n_jobs=36)]: Done 100 out of 100 | elapsed:    0.9s finished\n"
     ]
    },
    {
     "name": "stdout",
     "output_type": "stream",
     "text": [
      "(89, 1) : 0.76830625\n"
     ]
    },
    {
     "name": "stderr",
     "output_type": "stream",
     "text": [
      "[Parallel(n_jobs=-1)]: Using backend ThreadingBackend with 36 concurrent workers.\n",
      "[Parallel(n_jobs=-1)]: Done 100 out of 100 | elapsed: 15.7min finished\n",
      "[Parallel(n_jobs=36)]: Using backend ThreadingBackend with 36 concurrent workers.\n"
     ]
    },
    {
     "name": "stdout",
     "output_type": "stream",
     "text": [
      "(178, 1) : 0.7654125\n",
      "Best hyperparameter setting: (11, 1)\n"
     ]
    },
    {
     "name": "stderr",
     "output_type": "stream",
     "text": [
      "[Parallel(n_jobs=36)]: Done 100 out of 100 | elapsed:    0.8s finished\n"
     ]
    }
   ],
   "source": [
    "num_features = vocab_size\n",
    "hyperparameter_settings = [(max_features, min_samples_leaf)\n",
    "                           for max_features in [int(np.sqrt(num_features) / 4),\n",
    "                                                int(np.sqrt(num_features) / 2),\n",
    "                                                int(np.sqrt(num_features)),\n",
    "                                                int(np.sqrt(num_features) * 2),\n",
    "                                                int(np.sqrt(num_features) * 4)]\n",
    "                           for min_samples_leaf in [1]]\n",
    "best_val_score = -np.inf  # assumes that a higher score is better\n",
    "best_model = None\n",
    "\n",
    "for hyperparam_setting in hyperparameter_settings:\n",
    "    # your code to train and score the training data here\n",
    "    max_features, min_samples_leaf = hyperparam_setting\n",
    "    \n",
    "    clf = RandomForestClassifier(max_features=max_features,\n",
    "                                 min_samples_leaf=min_samples_leaf,\n",
    "                                 random_state=0, verbose=1, n_jobs=-1,\n",
    "                                 max_samples=0.1)\n",
    "    clf.fit(baseline_proper_train_encoded_sparse,\n",
    "            baseline_proper_train_labels)\n",
    "    \n",
    "    predicted_val_labels = clf.predict(baseline_val_encoded_sparse)\n",
    "    val_score = np.mean(baseline_val_labels == predicted_val_labels)\n",
    "    \n",
    "    print(hyperparam_setting, ':', val_score)\n",
    "    if val_score > best_val_score:  # assumes that a higher score is better\n",
    "        best_val_score = val_score\n",
    "        best_hyperparam_setting = hyperparam_setting\n",
    "        best_model = clf\n",
    "\n",
    "print('Best hyperparameter setting:', best_hyperparam_setting)\n",
    "# best_max_features, best_min_samples_leaf = best_hyperparam_setting"
   ]
  },
  {
   "cell_type": "code",
   "execution_count": 34,
   "metadata": {},
   "outputs": [
    {
     "name": "stderr",
     "output_type": "stream",
     "text": [
      "[Parallel(n_jobs=36)]: Using backend ThreadingBackend with 36 concurrent workers.\n"
     ]
    },
    {
     "name": "stdout",
     "output_type": "stream",
     "text": [
      "Test accuracy: 0.606425702811245\n"
     ]
    },
    {
     "name": "stderr",
     "output_type": "stream",
     "text": [
      "[Parallel(n_jobs=36)]: Done 100 out of 100 | elapsed:    0.2s finished\n"
     ]
    }
   ],
   "source": [
    "baseline_test_encoded_sparse = csc_matrix(bag_of_words_encode(test_encoded))\n",
    "\n",
    "baseline_predicted_test_labels = best_model.predict(baseline_test_encoded_sparse)\n",
    "print('Test accuracy:', np.mean(baseline_predicted_test_labels == test_labels.cpu().numpy()))"
   ]
  }
 ],
 "metadata": {
  "kernelspec": {
   "display_name": "Python 3",
   "language": "python",
   "name": "python3"
  },
  "language_info": {
   "codemirror_mode": {
    "name": "ipython",
    "version": 3
   },
   "file_extension": ".py",
   "mimetype": "text/x-python",
   "name": "python",
   "nbconvert_exporter": "python",
   "pygments_lexer": "ipython3",
   "version": "3.8.8"
  }
 },
 "nbformat": 4,
 "nbformat_minor": 2
}
